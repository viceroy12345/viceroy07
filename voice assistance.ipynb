{
 "cells": [
  {
   "cell_type": "code",
   "execution_count": 1,
   "id": "236f1bbc-3018-45f4-9c56-3ea818e1e2b3",
   "metadata": {},
   "outputs": [
    {
     "name": "stdout",
     "output_type": "stream",
     "text": [
      "Requirement already satisfied: speechrecognition in c:\\users\\pradh\\anaconda3\\lib\\site-packages (3.14.2)\n",
      "Collecting pyttsx3\n",
      "  Downloading pyttsx3-2.98-py3-none-any.whl.metadata (3.8 kB)\n",
      "Collecting wikipedia\n",
      "  Downloading wikipedia-1.4.0.tar.gz (27 kB)\n",
      "  Preparing metadata (setup.py): started\n",
      "  Preparing metadata (setup.py): finished with status 'done'\n",
      "Requirement already satisfied: typing-extensions in c:\\users\\pradh\\anaconda3\\lib\\site-packages (from speechrecognition) (4.11.0)\n",
      "Collecting comtypes (from pyttsx3)\n",
      "  Downloading comtypes-1.4.10-py3-none-any.whl.metadata (7.2 kB)\n",
      "Collecting pypiwin32 (from pyttsx3)\n",
      "  Downloading pypiwin32-223-py3-none-any.whl.metadata (236 bytes)\n",
      "Requirement already satisfied: pywin32 in c:\\users\\pradh\\anaconda3\\lib\\site-packages (from pyttsx3) (305.1)\n",
      "Requirement already satisfied: beautifulsoup4 in c:\\users\\pradh\\anaconda3\\lib\\site-packages (from wikipedia) (4.12.3)\n",
      "Requirement already satisfied: requests<3.0.0,>=2.0.0 in c:\\users\\pradh\\anaconda3\\lib\\site-packages (from wikipedia) (2.32.2)\n",
      "Requirement already satisfied: charset-normalizer<4,>=2 in c:\\users\\pradh\\anaconda3\\lib\\site-packages (from requests<3.0.0,>=2.0.0->wikipedia) (2.0.4)\n",
      "Requirement already satisfied: idna<4,>=2.5 in c:\\users\\pradh\\anaconda3\\lib\\site-packages (from requests<3.0.0,>=2.0.0->wikipedia) (3.7)\n",
      "Requirement already satisfied: urllib3<3,>=1.21.1 in c:\\users\\pradh\\anaconda3\\lib\\site-packages (from requests<3.0.0,>=2.0.0->wikipedia) (2.2.2)\n",
      "Requirement already satisfied: certifi>=2017.4.17 in c:\\users\\pradh\\anaconda3\\lib\\site-packages (from requests<3.0.0,>=2.0.0->wikipedia) (2024.7.4)\n",
      "Requirement already satisfied: soupsieve>1.2 in c:\\users\\pradh\\anaconda3\\lib\\site-packages (from beautifulsoup4->wikipedia) (2.5)\n",
      "Downloading pyttsx3-2.98-py3-none-any.whl (34 kB)\n",
      "Downloading comtypes-1.4.10-py3-none-any.whl (241 kB)\n",
      "   ---------------------------------------- 0.0/241.5 kB ? eta -:--:--\n",
      "   ------ --------------------------------- 41.0/241.5 kB 1.9 MB/s eta 0:00:01\n",
      "   ------------------ --------------------- 112.6/241.5 kB 1.6 MB/s eta 0:00:01\n",
      "   ----------------------- ---------------- 143.4/241.5 kB 1.2 MB/s eta 0:00:01\n",
      "   ----------------------- ---------------- 143.4/241.5 kB 1.2 MB/s eta 0:00:01\n",
      "   --------------------------------- ------ 204.8/241.5 kB 1.0 MB/s eta 0:00:01\n",
      "   -------------------------------------  235.5/241.5 kB 962.7 kB/s eta 0:00:01\n",
      "   -------------------------------------- 241.5/241.5 kB 925.0 kB/s eta 0:00:00\n",
      "Downloading pypiwin32-223-py3-none-any.whl (1.7 kB)\n",
      "Building wheels for collected packages: wikipedia\n",
      "  Building wheel for wikipedia (setup.py): started\n",
      "  Building wheel for wikipedia (setup.py): finished with status 'done'\n",
      "  Created wheel for wikipedia: filename=wikipedia-1.4.0-py3-none-any.whl size=11706 sha256=9ef8e32cbf20be0c5b0dde564b8cb4035e64eda6c7e4f9f33df35fb006ccb54b\n",
      "  Stored in directory: c:\\users\\pradh\\appdata\\local\\pip\\cache\\wheels\\63\\47\\7c\\a9688349aa74d228ce0a9023229c6c0ac52ca2a40fe87679b8\n",
      "Successfully built wikipedia\n",
      "Installing collected packages: pypiwin32, comtypes, wikipedia, pyttsx3\n",
      "Successfully installed comtypes-1.4.10 pypiwin32-223 pyttsx3-2.98 wikipedia-1.4.0\n",
      "Note: you may need to restart the kernel to use updated packages.\n"
     ]
    }
   ],
   "source": [
    "pip install speechrecognition pyttsx3 wikipedia\n"
   ]
  },
  {
   "cell_type": "code",
   "execution_count": 3,
   "id": "a7e9b6da-93e2-4b39-9f0c-3ab374d83780",
   "metadata": {},
   "outputs": [
    {
     "name": "stdout",
     "output_type": "stream",
     "text": [
      "Requirement already satisfied: pyaudio in c:\\users\\pradh\\anaconda3\\lib\\site-packages (0.2.14)\n",
      "Note: you may need to restart the kernel to use updated packages.\n"
     ]
    }
   ],
   "source": [
    "pip install pyaudio\n"
   ]
  },
  {
   "cell_type": "code",
   "execution_count": null,
   "id": "e18b6d1f-45b0-457c-93a9-ca8200287888",
   "metadata": {},
   "outputs": [
    {
     "name": "stdout",
     "output_type": "stream",
     "text": [
      "Listening...\n",
      "Listening...\n",
      "Listening...\n"
     ]
    }
   ],
   "source": [
    "import speech_recognition as sr\n",
    "import pyttsx3\n",
    "import datetime\n",
    "import wikipedia\n",
    "\n",
    "# Initialize recognizer and text-to-speech engine\n",
    "recognizer = sr.Recognizer()\n",
    "engine = pyttsx3.init()\n",
    "\n",
    "def speak(text):\n",
    "    engine.say(text)\n",
    "    engine.runAndWait()\n",
    "\n",
    "def listen():\n",
    "    with sr.Microphone() as source:\n",
    "        print(\"Listening...\")\n",
    "        recognizer.adjust_for_ambient_noise(source)\n",
    "        audio = recognizer.listen(source)\n",
    "\n",
    "        try:\n",
    "            text = recognizer.recognize_google(audio)\n",
    "            return text.lower()\n",
    "        except sr.UnknownValueError:\n",
    "            speak(\"Sorry, I didn't catch that.\")\n",
    "            return None\n",
    "        except sr.RequestError:\n",
    "            speak(\"There was an issue connecting to the recognition service.\")\n",
    "            return None\n",
    "\n",
    "def main():\n",
    "    speak(\"Hello! How can I assist you?\")\n",
    "    \n",
    "    while True:\n",
    "        command = listen()\n",
    "        \n",
    "        if command:\n",
    "            print(\"You said:\", command)\n",
    "\n",
    "            if \"time\" in command:\n",
    "                now = datetime.datetime.now().strftime(\"%H:%M\")\n",
    "                speak(f\"The time is {now}\")\n",
    "\n",
    "            elif \"wikipedia\" in command:\n",
    "                speak(\"Searching Wikipedia...\")\n",
    "                result = wikipedia.summary(command.replace(\"wikipedia\", \"\"), sentences=2)\n",
    "                speak(result)\n",
    "\n",
    "            elif \"exit\" in command or \"bye\" in command:\n",
    "                speak(\"Goodbye!\")\n",
    "                break\n",
    "\n",
    "if __name__ == \"__main__\":\n",
    "    main()\n"
   ]
  },
  {
   "cell_type": "code",
   "execution_count": null,
   "id": "614070b2-2c8a-48c3-84f9-4b65ab867bf9",
   "metadata": {},
   "outputs": [],
   "source": []
  }
 ],
 "metadata": {
  "kernelspec": {
   "display_name": "Python 3 (ipykernel)",
   "language": "python",
   "name": "python3"
  },
  "language_info": {
   "codemirror_mode": {
    "name": "ipython",
    "version": 3
   },
   "file_extension": ".py",
   "mimetype": "text/x-python",
   "name": "python",
   "nbconvert_exporter": "python",
   "pygments_lexer": "ipython3",
   "version": "3.12.4"
  }
 },
 "nbformat": 4,
 "nbformat_minor": 5
}
